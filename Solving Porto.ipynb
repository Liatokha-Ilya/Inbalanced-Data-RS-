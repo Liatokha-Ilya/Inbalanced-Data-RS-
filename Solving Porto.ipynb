{
 "cells": [
  {
   "cell_type": "markdown",
   "metadata": {},
   "source": [
    "# Classification. Linear models and KNN"
   ]
  },
  {
   "cell_type": "code",
   "execution_count": 1,
   "metadata": {},
   "outputs": [],
   "source": [
    "import os\n",
    "import numpy as np\n",
    "import pandas as pd\n",
    "import seaborn as sns\n",
    "import matplotlib.pyplot as plt"
   ]
  },
  {
   "cell_type": "code",
   "execution_count": 43,
   "metadata": {},
   "outputs": [],
   "source": [
    "from sklearn.pipeline import Pipeline\n",
    "from sklearn.compose import ColumnTransformer\n",
    "from sklearn.model_selection import (GridSearchCV, RandomizedSearchCV,\n",
    "                                     cross_val_score, cross_validate,\n",
    "                                     train_test_split)\n",
    "from sklearn.metrics import plot_confusion_matrix, accuracy_score, recall_score, make_scorer\n",
    "from sklearn.linear_model import SGDClassifier\n",
    "from sklearn.preprocessing import StandardScaler, OneHotEncoder\n",
    "from sklearn.ensemble import RandomForestClassifier, RandomForestRegressor"
   ]
  },
  {
   "cell_type": "code",
   "execution_count": 27,
   "metadata": {},
   "outputs": [],
   "source": [
    "# Code for calculating Normalized gini coefficient\n",
    "# https://www.kaggle.com/c/ClaimPredictionChallenge/discussion/703\n",
    "def gini(actual, pred, cmpcol = 0, sortcol = 1):  \n",
    "    assert(len(actual) == len(pred))  \n",
    "    epsilon = 1e-7\n",
    "    values = np.asarray(np.c_[actual, pred, np.arange(len(actual))], dtype=np.float)  \n",
    "    values = values[np.lexsort((values[:, 2], -1 * values[:, 1]))]\n",
    "    total = values[:, 0].sum()\n",
    "    gini_sum = (values[:, 0].cumsum().sum() + epsilon) / (total + epsilon)  \n",
    "    gini_sum -= (len(actual) + 1) / 2  \n",
    "    return gini_sum / len(actual)  \n",
    "  \n",
    "def gini_normalized(a, p):  \n",
    "    '''Function to calculate the normalized gini coefficient'''\n",
    "    return gini(a, p) / gini(a, a)"
   ]
  },
  {
   "cell_type": "code",
   "execution_count": 53,
   "metadata": {},
   "outputs": [],
   "source": [
    "gini_score = make_scorer(gini_normalized, greater_is_better=True, needs_proba=True)"
   ]
  },
  {
   "cell_type": "code",
   "execution_count": null,
   "metadata": {},
   "outputs": [],
   "source": []
  },
  {
   "cell_type": "code",
   "execution_count": null,
   "metadata": {},
   "outputs": [],
   "source": [
    "PATH = \"./data/\""
   ]
  },
  {
   "cell_type": "code",
   "execution_count": 111,
   "metadata": {},
   "outputs": [],
   "source": [
    "train_data = pd.read_csv(os.path.join(PATH, 'porto', 'train.csv')).set_index('id')\n",
    "test_data = pd.read_csv(os.path.join(PATH, 'porto', 'test.csv')).set_index('id')\n",
    "\n",
    "dataset_original = train_data.append(test_data)"
   ]
  },
  {
   "cell_type": "code",
   "execution_count": null,
   "metadata": {},
   "outputs": [],
   "source": []
  },
  {
   "cell_type": "code",
   "execution_count": 118,
   "metadata": {},
   "outputs": [],
   "source": [
    "#rebuild from here to save your time\n",
    "\n",
    "ntrain = 595212\n",
    "dataset = dataset_original\n",
    "train_data = dataset[:ntrain]\n",
    "test_data = dataset[ntrain:]"
   ]
  },
  {
   "cell_type": "code",
   "execution_count": 119,
   "metadata": {},
   "outputs": [
    {
     "name": "stdout",
     "output_type": "stream",
     "text": [
      "Missing Values in %:\n"
     ]
    },
    {
     "data": {
      "text/plain": [
       "ps_car_03_cat    0.690898\n",
       "ps_car_05_cat    0.447825\n",
       "ps_reg_03        0.181065\n",
       "ps_car_14        0.071605\n",
       "ps_car_07_cat    0.019302\n",
       "dtype: float64"
      ]
     },
     "execution_count": 119,
     "metadata": {},
     "output_type": "execute_result"
    }
   ],
   "source": [
    "print('Missing Values in %:')\n",
    "(train_data == -1).sum().sort_values(ascending = False)[:5]/train_data.shape[0]"
   ]
  },
  {
   "cell_type": "code",
   "execution_count": 120,
   "metadata": {},
   "outputs": [],
   "source": [
    "# drop top3 missing values-columns\n",
    "dataset = dataset.drop(columns = ['ps_car_03_cat', 'ps_car_05_cat', 'ps_reg_03'])\n",
    "\n",
    "for column in dataset:\n",
    "    dataset[column]=dataset[column].replace(-1,dataset[column].median())\n",
    "    \n",
    "train_data = dataset[:ntrain]\n",
    "test_data = dataset[ntrain:]"
   ]
  },
  {
   "cell_type": "code",
   "execution_count": 121,
   "metadata": {},
   "outputs": [
    {
     "data": {
      "text/plain": [
       "target\n",
       "0.0    573518\n",
       "1.0     21694\n",
       "dtype: int64"
      ]
     },
     "execution_count": 121,
     "metadata": {},
     "output_type": "execute_result"
    }
   ],
   "source": [
    "train_data.groupby('target').size()"
   ]
  },
  {
   "cell_type": "code",
   "execution_count": 117,
   "metadata": {},
   "outputs": [],
   "source": [
    "#let the number of 0-class samples be comparable to the numbers of 1-class samples.\n",
    "# NOT EFFECTIVE\n",
    "\n",
    "train_data = train_data[train_data['target'] == 1].append(\n",
    "                  train_data[train_data['target'] == 0].sample(n=30000, random_state=1))\n",
    "\n",
    "dataset = train_data.append(test_data)\n",
    "ntrain = train_data.shape[0]"
   ]
  },
  {
   "cell_type": "code",
   "execution_count": 65,
   "metadata": {},
   "outputs": [
    {
     "data": {
      "text/plain": [
       "target\n",
       "0.0    30000\n",
       "1.0    21694\n",
       "dtype: int64"
      ]
     },
     "execution_count": 65,
     "metadata": {},
     "output_type": "execute_result"
    }
   ],
   "source": [
    "train_data.groupby('target').size()"
   ]
  },
  {
   "cell_type": "code",
   "execution_count": 128,
   "metadata": {},
   "outputs": [],
   "source": [
    "test_indexes = dataset[ntrain:].index"
   ]
  },
  {
   "cell_type": "code",
   "execution_count": 101,
   "metadata": {},
   "outputs": [],
   "source": [
    "columns = dataset.drop(columns=['target']).columns"
   ]
  },
  {
   "cell_type": "code",
   "execution_count": 102,
   "metadata": {},
   "outputs": [],
   "source": [
    "numeric_features = [column for column in columns if not (column.endswith(\"cat\") or column.endswith(\"bin\"))]\n",
    "numeric_transformer = Pipeline(steps=[('scaler', StandardScaler())])\n",
    "\n",
    "categorical_features = [column for column in columns if (column.endswith(\"cat\") or column.endswith(\"bin\"))]\n",
    "categorical_transformer = Pipeline(steps=[('encoder', OneHotEncoder(handle_unknown='ignore'))])\n",
    "\n",
    "preprocessor = ColumnTransformer(\n",
    "    transformers=[\n",
    "        ('num', numeric_transformer, numeric_features),\n",
    "        ('cat', categorical_transformer, categorical_features)])"
   ]
  },
  {
   "cell_type": "code",
   "execution_count": 131,
   "metadata": {},
   "outputs": [],
   "source": [
    "dataset = preprocessor.fit_transform(dataset)"
   ]
  },
  {
   "cell_type": "code",
   "execution_count": 132,
   "metadata": {},
   "outputs": [],
   "source": [
    "X = dataset[:ntrain]\n",
    "y = train_data['target']\n",
    "\n",
    "test_X = dataset[ntrain:]"
   ]
  },
  {
   "cell_type": "code",
   "execution_count": 37,
   "metadata": {},
   "outputs": [
    {
     "name": "stdout",
     "output_type": "stream",
     "text": [
      "10\n",
      "20\n",
      "30\n",
      "40\n",
      "50\n",
      "60\n",
      "70\n",
      "80\n",
      "90\n",
      "100\n",
      "110\n",
      "120\n",
      "130\n",
      "140\n",
      "150\n",
      "160\n",
      "170\n",
      "180\n",
      "190\n",
      "200\n",
      "210\n",
      "220\n",
      "230\n"
     ]
    }
   ],
   "source": [
    "#lets find out, whether some of the features gives high gini by RandForest\n",
    "\n",
    "res = []\n",
    "c = 0\n",
    "for i in range(X.shape[1]):\n",
    "    xtrain = X[:,i]\n",
    "    v = 0\n",
    "    \n",
    "    for j in range(2):\n",
    "        X_train,X_test,y_train,y_test = train_test_split(xtrain,y,test_size=0.3,stratify = y)\n",
    "        rfr = RandomForestRegressor(n_estimators=100,random_state=1342, n_jobs=8)\n",
    "        rfr.fit(X=X_train,y=y_train)        \n",
    "        pred = rfr.predict(X_test )\n",
    "        v+= gini_normalized(y_test, pred)\n",
    "    res.append((v,i))\n",
    "\n",
    "    c+=1\n",
    "    if c % 10 ==0:\n",
    "        print(c)"
   ]
  },
  {
   "cell_type": "code",
   "execution_count": 38,
   "metadata": {},
   "outputs": [],
   "source": [
    "res.sort(reverse=True)\n",
    "best = []\n",
    "for i in range(100):\n",
    "    best.append(res[i])\n",
    "new_columns = [i[1] for i in best]"
   ]
  },
  {
   "cell_type": "code",
   "execution_count": 41,
   "metadata": {},
   "outputs": [
    {
     "name": "stdout",
     "output_type": "stream",
     "text": [
      "[7, 9, 5, 1, 39, 10, 38, 4, 41, 40, 55, 54, 72, 73, 57, 3, 74, 67, 56, 31, 0, 71, 6, 104, 217, 105, 106, 69, 42, 43, 107, 95, 30, 29, 37, 177, 83, 76, 102, 101, 134, 66, 204, 25, 99, 103, 78, 211, 85, 82, 58, 32, 65, 93, 68, 226, 35, 199, 84, 75, 45, 19, 2, 212, 44, 94, 201, 100, 59, 26, 183, 51, 91, 152, 151, 210, 8, 216, 11, 205, 213, 17, 161, 96, 89, 156, 124, 49, 92, 70, 202, 158, 113, 143, 115, 179, 178, 145, 141, 157]\n"
     ]
    }
   ],
   "source": [
    "#best.sort(reverse=True)\n",
    "\n",
    "#print([i[0]  for i in best])\n",
    "#print([i[1] for i in best])\n",
    "\n",
    "#[8, 74, 57, 9, 56, 31, 107, 5, 103, 102]\n",
    "#[7, 9, 5, 1, 39, 10, 38, 4, 41, 40, 55, 54, 72, 73, 57]"
   ]
  },
  {
   "cell_type": "code",
   "execution_count": 133,
   "metadata": {},
   "outputs": [],
   "source": [
    "X_new = np.take(X.toarray(), new_columns, axis = 1)"
   ]
  },
  {
   "cell_type": "code",
   "execution_count": 156,
   "metadata": {},
   "outputs": [],
   "source": [
    "X_train,X_test,y_train,y_test = train_test_split(X,y,test_size=0.3)"
   ]
  },
  {
   "cell_type": "code",
   "execution_count": 143,
   "metadata": {},
   "outputs": [],
   "source": [
    "tuned_parameters = {'n_estimators': np.arange(100, 1000, 10), \n",
    "                     'criterion': ['gini', 'entropy'],\n",
    "                     'max_depth': np.arange(2, 50, 2),\n",
    "                     'max_features': np.arange(2, 200, 5)}"
   ]
  },
  {
   "cell_type": "code",
   "execution_count": null,
   "metadata": {},
   "outputs": [],
   "source": [
    "rfc = RandomForestClassifier(n_jobs=-1)\n",
    "\n",
    "rs = RandomizedSearchCV(\n",
    "        rfc, tuned_parameters, n_iter=30, scoring=gini_score, n_jobs=-1, cv=3, random_state=42, verbose=10)\n",
    "rs.fit(X_train, y_train)"
   ]
  },
  {
   "cell_type": "code",
   "execution_count": null,
   "metadata": {},
   "outputs": [],
   "source": [
    "#print(rs.best_params_)\n",
    "#print(rs.best_score_)"
   ]
  },
  {
   "cell_type": "code",
   "execution_count": 157,
   "metadata": {},
   "outputs": [
    {
     "name": "stdout",
     "output_type": "stream",
     "text": [
      "Accuracy for RFC: 0.9635200824354293\n",
      "Gini for RFC: 0.2726819279075956\n"
     ]
    }
   ],
   "source": [
    "# lets try Classifier\n",
    "rfc = RandomForestClassifier(\n",
    "    n_estimators = 900, max_depth = 15, criterion = 'entropy', max_features = 'sqrt', n_jobs=4)\n",
    "rfc.fit(X=X_train,y=y_train)\n",
    "\n",
    "pred_proba = rfc.predict_proba(X_test)[:, 1]\n",
    "pred_bin = rfc.predict(X_test)\n",
    "\n",
    "print('Accuracy for RFC:',accuracy_score(y_test,pred_bin))\n",
    "print('Gini for RFC:',gini_normalized(y_test, pred_proba))"
   ]
  },
  {
   "cell_type": "code",
   "execution_count": null,
   "metadata": {},
   "outputs": [],
   "source": []
  },
  {
   "cell_type": "code",
   "execution_count": 158,
   "metadata": {},
   "outputs": [],
   "source": [
    "# PREPARING DATA FOR FINAL ESTIMATION\n",
    "#X_test = np.take(dataset[ntrain:].toarray(), new_columns, axis = 1)\n",
    "X_test = dataset[ntrain:].toarray()\n",
    "pred_proba = rfc.predict_proba(X_test)[:, 1]"
   ]
  },
  {
   "cell_type": "code",
   "execution_count": 160,
   "metadata": {},
   "outputs": [],
   "source": [
    "# SUBMITTION\n",
    "submission = pd.DataFrame({\n",
    "        \"id\": test_indexes,\n",
    "        \"target\": pred_proba\n",
    "    })\n",
    "submission.to_csv(os.path.join(PATH, 'porto', 'submission2.csv'), index=False)"
   ]
  },
  {
   "cell_type": "code",
   "execution_count": 161,
   "metadata": {},
   "outputs": [
    {
     "data": {
      "text/html": [
       "<div>\n",
       "<style scoped>\n",
       "    .dataframe tbody tr th:only-of-type {\n",
       "        vertical-align: middle;\n",
       "    }\n",
       "\n",
       "    .dataframe tbody tr th {\n",
       "        vertical-align: top;\n",
       "    }\n",
       "\n",
       "    .dataframe thead th {\n",
       "        text-align: right;\n",
       "    }\n",
       "</style>\n",
       "<table border=\"1\" class=\"dataframe\">\n",
       "  <thead>\n",
       "    <tr style=\"text-align: right;\">\n",
       "      <th></th>\n",
       "      <th>target</th>\n",
       "    </tr>\n",
       "    <tr>\n",
       "      <th>id</th>\n",
       "      <th></th>\n",
       "    </tr>\n",
       "  </thead>\n",
       "  <tbody>\n",
       "    <tr>\n",
       "      <th>0</th>\n",
       "      <td>0.028446</td>\n",
       "    </tr>\n",
       "    <tr>\n",
       "      <th>1</th>\n",
       "      <td>0.027333</td>\n",
       "    </tr>\n",
       "    <tr>\n",
       "      <th>2</th>\n",
       "      <td>0.029578</td>\n",
       "    </tr>\n",
       "    <tr>\n",
       "      <th>3</th>\n",
       "      <td>0.019194</td>\n",
       "    </tr>\n",
       "    <tr>\n",
       "      <th>4</th>\n",
       "      <td>0.035664</td>\n",
       "    </tr>\n",
       "    <tr>\n",
       "      <th>...</th>\n",
       "      <td>...</td>\n",
       "    </tr>\n",
       "    <tr>\n",
       "      <th>1488022</th>\n",
       "      <td>0.074033</td>\n",
       "    </tr>\n",
       "    <tr>\n",
       "      <th>1488023</th>\n",
       "      <td>0.043686</td>\n",
       "    </tr>\n",
       "    <tr>\n",
       "      <th>1488024</th>\n",
       "      <td>0.040679</td>\n",
       "    </tr>\n",
       "    <tr>\n",
       "      <th>1488025</th>\n",
       "      <td>0.025179</td>\n",
       "    </tr>\n",
       "    <tr>\n",
       "      <th>1488026</th>\n",
       "      <td>0.030429</td>\n",
       "    </tr>\n",
       "  </tbody>\n",
       "</table>\n",
       "<p>892816 rows × 1 columns</p>\n",
       "</div>"
      ],
      "text/plain": [
       "           target\n",
       "id               \n",
       "0        0.028446\n",
       "1        0.027333\n",
       "2        0.029578\n",
       "3        0.019194\n",
       "4        0.035664\n",
       "...           ...\n",
       "1488022  0.074033\n",
       "1488023  0.043686\n",
       "1488024  0.040679\n",
       "1488025  0.025179\n",
       "1488026  0.030429\n",
       "\n",
       "[892816 rows x 1 columns]"
      ]
     },
     "execution_count": 161,
     "metadata": {},
     "output_type": "execute_result"
    }
   ],
   "source": [
    "pd.read_csv(os.path.join(PATH, 'porto', 'submission2.csv')).set_index('id')"
   ]
  },
  {
   "cell_type": "code",
   "execution_count": null,
   "metadata": {},
   "outputs": [],
   "source": []
  }
 ],
 "metadata": {
  "kernelspec": {
   "display_name": "Python 3",
   "language": "python",
   "name": "python3"
  },
  "language_info": {
   "codemirror_mode": {
    "name": "ipython",
    "version": 3
   },
   "file_extension": ".py",
   "mimetype": "text/x-python",
   "name": "python",
   "nbconvert_exporter": "python",
   "pygments_lexer": "ipython3",
   "version": "3.8.5"
  }
 },
 "nbformat": 4,
 "nbformat_minor": 4
}
